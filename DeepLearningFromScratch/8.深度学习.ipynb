{
 "cells": [
  {
   "cell_type": "markdown",
   "metadata": {},
   "source": [
    "# 加深网络\n",
    "## 更深的网络\n",
    "- 3x3小型滤波卷积层\n",
    "- Relu\n",
    "- 全连接后用DropOut\n",
    "- Adam优化\n",
    "- He初始值\n",
    "\n",
    "## 数据扩充(data augmentation)\n",
    "\n",
    "# 深度学习历史\n",
    "\n",
    "## ImageNet\n",
    "\n",
    "拥有100万张图片的数据集\n",
    "ILSVRC\n",
    "\n",
    "## VGG\n",
    "\n",
    "## GoogleNet\n",
    "宽度和广度\n",
    "\n",
    "## ResNet\n",
    "\n",
    "ShortCut结构\n",
    "\n",
    "\n",
    "# 深度学习的高速化\n",
    "\n",
    "## 基于GPU的高速化\n",
    "\n",
    "## 分布式学习\n",
    "\n",
    "## 位数缩减\n",
    "\n",
    "# 应用案例\n",
    "\n",
    "## 物体检测\n",
    "\n",
    "R-CNN\n",
    "1. Image Image\n",
    "2. Extract Region\n",
    "3. Compute CNN Features\n",
    "4. Classify regions\n",
    "\n",
    "## 图像分割\n",
    "\n",
    "## 标题生成\n",
    "\n",
    "### NIC(Nerual Image Caption)\n",
    "1. CNN\n",
    "2. RNN\n",
    "\n",
    "# 深度学习未来\n",
    "\n",
    "## 图像风格变换\n",
    "## 图像生成\n",
    "## 自动驾驶\n",
    "## 强化学习"
   ]
  },
  {
   "cell_type": "code",
   "execution_count": null,
   "metadata": {},
   "outputs": [],
   "source": []
  }
 ],
 "metadata": {
  "kernelspec": {
   "display_name": "Python 3",
   "language": "python",
   "name": "python3"
  },
  "language_info": {
   "codemirror_mode": {
    "name": "ipython",
    "version": 3
   },
   "file_extension": ".py",
   "mimetype": "text/x-python",
   "name": "python",
   "nbconvert_exporter": "python",
   "pygments_lexer": "ipython3",
   "version": "3.7.5"
  }
 },
 "nbformat": 4,
 "nbformat_minor": 4
}
