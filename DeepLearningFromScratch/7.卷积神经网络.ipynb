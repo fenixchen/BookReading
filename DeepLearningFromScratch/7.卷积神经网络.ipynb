{
 "cells": [
  {
   "cell_type": "markdown",
   "metadata": {},
   "source": [
    "# 卷积运算\n",
    "\n",
    "- 核 == 过滤器\n",
    "- 填充(padding)\n",
    "- 步幅(stride)\n",
    "\n",
    "## 计算输出大小\n",
    "- Input: (H, W)\n",
    "- Filter: (FH, FW)\n",
    "- Padding: P\n",
    "- Stride: S\n",
    "- Output: (OH, HW)\n",
    "\n",
    "`\n",
    "OH = (H + 2 * P - FH) / S +1\n",
    "OW = (W + 2 * P - FW) / S +1\n",
    "`\n",
    "\n",
    "## 三维数据的卷积运算\n",
    "\n",
    "(Channel, Width, Height)\n",
    "\n",
    "(C, FH, FW)\n",
    "\n",
    "多个滤波器: (FN, C, FH, FW)\n",
    "输出数据: (FN, OH, OW)\n",
    "\n",
    "### 批处理\n",
    "(N, C, H, W) * (FN, C, H, W) -> (N, FH"
   ]
  },
  {
   "cell_type": "code",
   "execution_count": null,
   "metadata": {},
   "outputs": [],
   "source": []
  }
 ],
 "metadata": {
  "kernelspec": {
   "display_name": "Python 3",
   "language": "python",
   "name": "python3"
  },
  "language_info": {
   "codemirror_mode": {
    "name": "ipython",
    "version": 3
   },
   "file_extension": ".py",
   "mimetype": "text/x-python",
   "name": "python",
   "nbconvert_exporter": "python",
   "pygments_lexer": "ipython3",
   "version": "3.7.3"
  }
 },
 "nbformat": 4,
 "nbformat_minor": 4
}
