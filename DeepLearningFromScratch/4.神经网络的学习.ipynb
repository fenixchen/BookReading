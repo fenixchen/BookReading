{
 "cells": [
  {
   "cell_type": "markdown",
   "metadata": {},
   "source": [
    "**深度学习**称作端到端的学习, End-To-End Machine Leaning, **从原始数据中获得目标结果**"
   ]
  },
  {
   "cell_type": "markdown",
   "metadata": {},
   "source": [
    "## 均方误差"
   ]
  },
  {
   "cell_type": "code",
   "execution_count": 94,
   "metadata": {},
   "outputs": [
    {
     "name": "stdout",
     "output_type": "stream",
     "text": [
      "0.10250000000000002\n",
      "0.6024999999999999\n"
     ]
    }
   ],
   "source": [
    "# mean squared error\n",
    "import numpy as np\n",
    "def mean_square_error(y, t):\n",
    "    return 0.5 * np.sum((y - t) ** 2)\n",
    "\n",
    "t = [0,   0,    1,   0,   0]\n",
    "y = [0.1, 0.05, 0.6, 0.1, 0.15 ]\n",
    "print(mean_square_error(np.array(y), np.array(t)))\n",
    "\n",
    "\n",
    "t = [1,   0,    0,   0,   0]\n",
    "y = [0.1, 0.05, 0.6, 0.1, 0.15 ]\n",
    "print(mean_square_error(np.array(y), np.array(t)))"
   ]
  },
  {
   "cell_type": "markdown",
   "metadata": {},
   "source": [
    "## 交叉熵误差"
   ]
  },
  {
   "cell_type": "code",
   "execution_count": 95,
   "metadata": {},
   "outputs": [
    {
     "data": {
      "image/png": "[encoded data removed]",
      "text/plain": [
       "<Figure size 432x288 with 1 Axes>"
      ]
     },
     "metadata": {
      "needs_background": "light"
     },
     "output_type": "display_data"
    }
   ],
   "source": [
    "# cross entropy error\n",
    "import numpy as np\n",
    "import matplotlib.pyplot as plt\n",
    "x = np.arange(0.001, 1, 0.001)\n",
    "y = np.log(x)\n",
    "plt.plot(x, y)\n",
    "plt.show()"
   ]
  },
  {
   "cell_type": "code",
   "execution_count": 96,
   "metadata": {},
   "outputs": [
    {
     "name": "stdout",
     "output_type": "stream",
     "text": [
      "0.510825457099338\n",
      "2.302584092994546\n"
     ]
    }
   ],
   "source": [
    "def cross_entropy_error(y, t):\n",
    "    delta = 1e-7\n",
    "    return -np.sum(t * np.log(y + delta))\n",
    "t = [0,   0,    1,   0,   0]\n",
    "y = [0.1, 0.05, 0.6, 0.1, 0.15 ]\n",
    "print(cross_entropy_error(np.array(y), np.array(t)))\n",
    "\n",
    "\n",
    "t = [1,   0,    0,   0,   0]\n",
    "y = [0.1, 0.05, 0.6, 0.1, 0.15 ]\n",
    "print(cross_entropy_error(np.array(y), np.array(t)))"
   ]
  },
  {
   "cell_type": "markdown",
   "metadata": {},
   "source": [
    "## mini batch"
   ]
  },
  {
   "cell_type": "code",
   "execution_count": 97,
   "metadata": {},
   "outputs": [
    {
     "name": "stdout",
     "output_type": "stream",
     "text": [
      "(60000, 784)\n",
      "(60000, 10)\n"
     ]
    }
   ],
   "source": [
    "import sys, os\n",
    "sys.path.append('SourceCode')\n",
    "from dataset.mnist import load_mnist\n",
    "(x_train, t_train), (x_test, t_test) = load_mnist(normalize=True, one_hot_label=True)\n",
    "print(x_train.shape)\n",
    "print(t_train.shape)"
   ]
  },
  {
   "cell_type": "code",
   "execution_count": 98,
   "metadata": {},
   "outputs": [
    {
     "name": "stdout",
     "output_type": "stream",
     "text": [
      "train_size:60000, batch_size:10\n"
     ]
    }
   ],
   "source": [
    "train_size = x_train.shape[0]\n",
    "batch_size = 10\n",
    "print('train_size:%d, batch_size:%d' % (train_size, batch_size))"
   ]
  },
  {
   "cell_type": "code",
   "execution_count": 99,
   "metadata": {},
   "outputs": [
    {
     "name": "stdout",
     "output_type": "stream",
     "text": [
      "[20977 16534 46525 49103 45125 13168 10485  6086  2701 12762]\n"
     ]
    }
   ],
   "source": [
    "batch_mask = np.random.choice(train_size, batch_size)\n",
    "print(batch_mask)"
   ]
  },
  {
   "cell_type": "code",
   "execution_count": 100,
   "metadata": {},
   "outputs": [
    {
     "name": "stdout",
     "output_type": "stream",
     "text": [
      "(10, 784) \n",
      " (10, 10)\n"
     ]
    }
   ],
   "source": [
    "x_batch = x_train[batch_mask]\n",
    "t_batch = t_train[batch_mask]\n",
    "print(x_batch.shape, '\\n',  t_batch.shape)"
   ]
  },
  {
   "cell_type": "code",
   "execution_count": 101,
   "metadata": {},
   "outputs": [
    {
     "data": {
      "text/plain": [
       "-9.999999505838706e-08"
      ]
     },
     "execution_count": 101,
     "metadata": {},
     "output_type": "execute_result"
    }
   ],
   "source": [
    "# mini-batch 交叉熵误差\n",
    "# one hot数据\n",
    "def cross_entropy_error(y, t):\n",
    "    if y.ndim == 1:\n",
    "        t = t.reshape(1, t.size)\n",
    "        y = y.reshape(1, y.size)\n",
    "    batch_size = y.shape[0]\n",
    "    return -np.sum(t * np.log(y + 1e-7)) / batch_size\n",
    "cross_entropy_error(t_batch, t_batch)"
   ]
  },
  {
   "cell_type": "code",
   "execution_count": 102,
   "metadata": {},
   "outputs": [
    {
     "name": "stdout",
     "output_type": "stream",
     "text": [
      "[0 1 2 3 4 5 6 7 8 9]\n"
     ]
    }
   ],
   "source": [
    "# 非one hot数据\n",
    "def cross_entropy_error(y, t):\n",
    "    if y.ndim == 1:\n",
    "        t = t.reshape(1, t.size)\n",
    "        y = y.reshape(1, y.size)\n",
    "    batch_size = y.shape[0]\n",
    "    return -np.sum(t * np.log(y + 1e-7)) / batch_size\n",
    "batch_size = 10\n",
    "(x_train, t_train), (x_test, t_test) = load_mnist(normalize=True, one_hot_label=False)\n",
    "print(np.arange(batch_size))"
   ]
  },
  {
   "cell_type": "code",
   "execution_count": 103,
   "metadata": {},
   "outputs": [
    {
     "data": {
      "text/plain": [
       "array([5, 0, 4, 1, 9, 2, 1, 3, 1, 4], dtype=uint8)"
      ]
     },
     "execution_count": 103,
     "metadata": {},
     "output_type": "execute_result"
    }
   ],
   "source": [
    "t_train[0:10]"
   ]
  },
  {
   "cell_type": "code",
   "execution_count": 104,
   "metadata": {},
   "outputs": [
    {
     "data": {
      "text/plain": [
       "array([5, 0, 4, 1, 9, 2, 1, 3, 1, 4], dtype=uint8)"
      ]
     },
     "execution_count": 104,
     "metadata": {},
     "output_type": "execute_result"
    }
   ],
   "source": [
    "t_train[np.arange(batch_size)]"
   ]
  },
  {
   "cell_type": "markdown",
   "metadata": {},
   "source": [
    "# 数值微分"
   ]
  },
  {
   "cell_type": "code",
   "execution_count": 110,
   "metadata": {},
   "outputs": [
    {
     "data": {
      "image/png": "[encoded data removed]",
      "text/plain": [
       "<Figure size 432x288 with 1 Axes>"
      ]
     },
     "metadata": {
      "needs_background": "light"
     },
     "output_type": "display_data"
    }
   ],
   "source": [
    "def numerical_diff(f, x):\n",
    "    h = 1e-4\n",
    "    return (f(x + h) - f(x - h)) / (2 * h)\n",
    "\n",
    "\n",
    "# derivate is 0.02x\n",
    "def function_1(x):\n",
    "    return 0.01 * x ** 2 + 0.1 * x\n",
    "\n",
    "import numpy as np\n",
    "import matplotlib.pyplot as plt\n",
    "\n",
    "x = np.arange(0.1, 20, 0.1)\n",
    "y = function_1(x)\n",
    "plt.xlabel('x')\n",
    "plt.ylabel('y')\n",
    "plt.plot(x, y)\n",
    "plt.show()"
   ]
  },
  {
   "cell_type": "code",
   "execution_count": 111,
   "metadata": {},
   "outputs": [
    {
     "data": {
      "text/plain": [
       "0.1999999999990898"
      ]
     },
     "execution_count": 111,
     "metadata": {},
     "output_type": "execute_result"
    }
   ],
   "source": [
    "numerial_diff(function_1, 5)"
   ]
  },
  {
   "cell_type": "code",
   "execution_count": 112,
   "metadata": {},
   "outputs": [
    {
     "data": {
      "text/plain": [
       "0.2999999999986347"
      ]
     },
     "execution_count": 112,
     "metadata": {},
     "output_type": "execute_result"
    }
   ],
   "source": [
    "numerial_diff(function_1, 10)"
   ]
  },
  {
   "cell_type": "code",
   "execution_count": 116,
   "metadata": {},
   "outputs": [
    {
     "data": {
      "text/plain": [
       "array([-0.23, -0.21, -0.19, -0.17, -0.15, -0.13, -0.11, -0.09, -0.07,\n",
       "       -0.05, -0.03, -0.01,  0.01,  0.03,  0.05,  0.07,  0.09,  0.11,\n",
       "        0.13,  0.15,  0.17,  0.19,  0.21,  0.23,  0.25,  0.27,  0.29,\n",
       "        0.31,  0.33,  0.35,  0.37,  0.39,  0.41,  0.43,  0.45,  0.47,\n",
       "        0.49,  0.51,  0.53,  0.55,  0.57,  0.59,  0.61,  0.63,  0.65,\n",
       "        0.67,  0.69,  0.71,  0.73,  0.75,  0.77,  0.79,  0.81,  0.83,\n",
       "        0.85,  0.87,  0.89,  0.91,  0.93,  0.95,  0.97,  0.99,  1.01,\n",
       "        1.03,  1.05,  1.07,  1.09,  1.11,  1.13,  1.15,  1.17,  1.19,\n",
       "        1.21,  1.23,  1.25,  1.27,  1.29,  1.31,  1.33,  1.35,  1.37,\n",
       "        1.39,  1.41,  1.43,  1.45,  1.47,  1.49,  1.51,  1.53,  1.55,\n",
       "        1.57,  1.59,  1.61,  1.63,  1.65,  1.67,  1.69,  1.71,  1.73,\n",
       "        1.75,  1.77,  1.79,  1.81,  1.83,  1.85,  1.87,  1.89,  1.91,\n",
       "        1.93,  1.95,  1.97,  1.99,  2.01,  2.03,  2.05,  2.07,  2.09,\n",
       "        2.11,  2.13,  2.15,  2.17,  2.19,  2.21,  2.23,  2.25,  2.27,\n",
       "        2.29,  2.31,  2.33,  2.35,  2.37,  2.39,  2.41,  2.43,  2.45,\n",
       "        2.47,  2.49,  2.51,  2.53,  2.55,  2.57,  2.59,  2.61,  2.63,\n",
       "        2.65,  2.67,  2.69,  2.71,  2.73,  2.75,  2.77,  2.79,  2.81,\n",
       "        2.83,  2.85,  2.87,  2.89,  2.91,  2.93,  2.95,  2.97,  2.99,\n",
       "        3.01,  3.03,  3.05,  3.07,  3.09,  3.11,  3.13,  3.15,  3.17,\n",
       "        3.19,  3.21,  3.23,  3.25,  3.27,  3.29,  3.31,  3.33,  3.35,\n",
       "        3.37,  3.39,  3.41,  3.43,  3.45,  3.47,  3.49,  3.51,  3.53,\n",
       "        3.55,  3.57,  3.59,  3.61,  3.63,  3.65,  3.67,  3.69,  3.71,\n",
       "        3.73])"
      ]
     },
     "execution_count": 116,
     "metadata": {},
     "output_type": "execute_result"
    }
   ],
   "source": [
    "def tangent_line(f, x):\n",
    "    d = numerical_diff(f, x)    \n",
    "    y = f(x) - d*x\n",
    "    return lambda t: d*t + y\n",
    "tf = tangent_line(function_1, 5)\n",
    "y1 = tf(x)"
   ]
  },
  {
   "cell_type": "code",
   "execution_count": 117,
   "metadata": {},
   "outputs": [
    {
     "data": {
      "image/png": "[encoded data removed]",
      "text/plain": [
       "<Figure size 432x288 with 1 Axes>"
      ]
     },
     "metadata": {
      "needs_background": "light"
     },
     "output_type": "display_data"
    }
   ],
   "source": [
    "plt.xlabel('x')\n",
    "plt.ylabel('y')\n",
    "plt.plot(x, y)\n",
    "plt.plot(x, y1)\n",
    "plt.show()\n"
   ]
  },
  {
   "cell_type": "code",
   "execution_count": null,
   "metadata": {},
   "outputs": [],
   "source": []
  }
 ],
 "metadata": {
  "kernelspec": {
   "display_name": "Python 3",
   "language": "python",
   "name": "python3"
  },
  "language_info": {
   "codemirror_mode": {
    "name": "ipython",
    "version": 3
   },
   "file_extension": ".py",
   "mimetype": "text/x-python",
   "name": "python",
   "nbconvert_exporter": "python",
   "pygments_lexer": "ipython3",
   "version": "3.7.5"
  }
 },
 "nbformat": 4,
 "nbformat_minor": 4
}
